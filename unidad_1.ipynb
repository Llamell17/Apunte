{
  "cells": [
    {
      "cell_type": "raw",
      "metadata": {},
      "source": [
        "---\n",
        "title: Introducción a la Algoritmia y a la Programación\n",
        "format:\n",
        "  html:\n",
        "    code-fold: true\n",
        "---"
      ],
      "id": "455b1fb6"
    },
    {
      "cell_type": "markdown",
      "metadata": {},
      "source": [
        "# Introducción a la Algoritmia y a la Programación\n",
        "\n",
        "## Introducción\n",
        "\n",
        "Como en todas las disciplinas, la Ingeniería de Software y la Programación de Sistemas en general tienen un **lenguaje técnico** específico. La utilización de ciertos términos y el compartir de ciertos conceptos agiliza el diálogo y mejora la comprensión con los pares.\n",
        "\n",
        "En este capítulo vamos a hacer una breve introducción de ciertos conceptos, ideas y modelos que van a permitirnos establecer acuerdos y manejar un lenguaje común.\n",
        "\n",
        "### La Computadora\n",
        "Una computadora es un dispositivo físico de procesamiento de datos, con un propósito general.\n",
        "Todos los programas que escribiremos serán ejecutados (o *corridos*) en una computadora.\n",
        "Una computadora es capaz de procesar datos y obtener nueva información o resultados.\n",
        "\n",
        "### Software y Hardware\n",
        "Toda computadora funciona con software y hardware. El software es el conjunto de herramientas abstractas (programas), y se le llama **componente lógica** del modelo computacional. El hardware es el **componente físico** del dispositivo.\n",
        "Básicamente, el software dice qué hacer, y el hardware lo hace.\n",
        "\n",
        "> **¿Es indispensable tener una computadora para crear un algoritmo?** \\\n",
        "La respuesta, sorprendentemente, es no: muchos de los algoritmos que se utilizan de forma computacional hoy en día fueron diseñados varias décadas atrás. Pero la implementación de un algoritmo depende del grado de avance del hardware y la tecnología disponible.\n",
        "\n",
        "### Sistema Operativo\n",
        "El sistema operaativo es el programa encargado de administrar los recursos del sistema. Los recursos (como la memoria, por ejemplo) son disputados entre diferentes programas o procesos ejecutándose al mismo tiempo. El sistema operativo es el que decide cómo administrar y asignar los recursos disponibles.\n",
        "\n",
        "Los sistemas operativos más comunes el día de hoy son: Windows, Linux, iOS, Android; por ejemplo.\n",
        "\n",
        "### Algoritmo\n",
        "**Un algoritmo es una serie finita de pasos precisos para alcanzar un objetivo.**\n",
        "\n",
        "- \"serie\": porque son continuados uno detrás del otro, de forma ordenada.\n",
        "- \"finita\": porque no pueden ser pasos infinitos, en algún momento deben terminar.\n",
        "- \"pasos precisos\": porque en un algoritmo se debe ser lo más específico posible.\n",
        "\n",
        "> **Ejemplo**\n",
        "Un algoritmo puede ser una receta de cocina: tiene una serie finita de pasos (son ordenados, uno detrás de otro, finitos porque en algún momento deben terminar), que son precisos (porque tienen indicaciones de cuánto agregar de cada ingrediente, cómo incorporarlo a la preparación, etc) y están orientados en alcanzar un objetivo (obtener una comida en particular).\n",
        "\n",
        "#### Creación de un Algoritmo\n",
        "La forma en la que trabajaremos la creación de un algoritmo es siguiendo los siguientes pasos:\n",
        "1. Análisis del problema: entender el objetivo y los posibles casos puntuales del mismo.\n",
        "2. Primer borrador de solución: confeccionar una idea generalizada de cómo podría resolverse el problema.\n",
        "3. División del problema en partes: dividir el problema en partes ayuda a descomponer un problema complejo en varios más sencillos.\n",
        "4. Ensamble de las partes para la versión final del algoritmo: acoplar todo el conjunto de partes del problema para lograr el objetivo general.\n",
        "\n",
        "Estos cuatro pasos podrán iterarse (repetirse) la cantidad de veces que sean necesarios, para poder lograr acercarnos más a la solución en cada iteración.\n",
        "\n",
        "### Programa\n",
        "**Un programa es un algoritmo escrito en un lenguaje de programación.**\n",
        "\n",
        "### Lenguaje de Programación\n",
        "Un lenguaje de programación es un **protocolo de comunicación**.\\\n",
        "Un protocolo es un **conjunto de normas consensuadas**.\n",
        "\n",
        "Cuando logramos que un *lenguaje* pueda ser comprendido por el humano y por la máquina, tenemos una comunicación efectiva en donde podremos hacer programas y pedirle a la máquina que los ejecute.\n",
        "\n",
        "Un buen ejemplo de cómo una computadora interpreta nuestras instrucciones sin pensar al respecto, sin tener sentido común y sin ambigüedades, es [este video](https://www.youtube.com/watch?v=cDA3_5982h8). La computadora lo único que hace es *interpretar* de forma explícita lo que nosotros le pedimos que haga.\n",
        "\n",
        "Un lenguaje de programación tiene reglas estrictas que se deben respetar y no se admiten ambiguedades o sobreentendidos.\n",
        "\n",
        "### Entorno de Desarrollo\n",
        "Un entorno de desarrollo es un conjunto de herramientas que nos permiten escribir, editar, compilar y ejecutar programas.\\\n",
        "\n",
        "En la materia utilizaremos un entorno de desarrollo llamado Replit, que nos permite escribir código en un editor de texto, compilarlo y ejecutarlo en un mismo lugar de forma online. Pero existen muchos otros entornos de desarrollo, como por ejemplo Visual Studio Code, Eclipse, NetBeans, etc.\n",
        "\n",
        "## Lenguaje Python\n",
        "\n",
        "En este curso utilizaremos el lenguaje de programación **Python**. Python es un lenguaje de programación de propósito general, que se utiliza en muchos ámbitos de la industria y la academia.\n",
        "\n",
        "Python es un lenguaje realmente fácil de aprender, con una curva de aprendizaje muy suave. Es un lenguaje de alto nivel, lo que significa que es un lenguaje que se asemeja mucho al lenguaje natural, y que no requiere de conocimientos de bajo nivel para poder utilizarlo.\n",
        "\n",
        "### Hola, Mundo!\n",
        "El primer programa que se escribe en cualquier lenguaje de programación es el programa \"Hola, Mundo!\". Este programa es un programa que imprime en pantalla el texto \"Hola, Mundo!\".\n",
        "\n",
        "En Python, el programa \"Hola, Mundo!\" se escribe de la siguiente forma:\n"
      ],
      "id": "85fcb1cd"
    },
    {
      "cell_type": "code",
      "metadata": {},
      "source": [
        "print(\"Hola, Mundo!\")"
      ],
      "id": "ef1e80fe",
      "execution_count": null,
      "outputs": []
    },
    {
      "cell_type": "markdown",
      "metadata": {},
      "source": [
        "`print` es una función que imprime en pantalla el texto que se le pasa entre paréntesis.\n",
        "En este caso, el texto que se le pasa como parámetro es `\"Hola, Mundo!\"`.\n",
        "Al escribir las comillas dobles, estamos indicando que el texto que se encuentra entre ellas es un texto literal.\n",
        "\n",
        "De la misma forma, podremos imprimir cualquier otro mensaje en pantalla, como por ejemplo:\n"
      ],
      "id": "dd6aa477"
    },
    {
      "cell_type": "code",
      "metadata": {},
      "source": [
        "print(\"Hola, me llamo Ana y soy programadora\")"
      ],
      "id": "ca1885b9",
      "execution_count": null,
      "outputs": []
    },
    {
      "cell_type": "markdown",
      "metadata": {},
      "source": [
        "Al igual que Ana, al hacer nuestro primer 'Hola, Mundo!' nos convertimos en programadores. ¡Felicitaciones!\n",
        "\n",
        "A partir de la próxima clase, comenzaremos a ver cómo escribir programas más complejos, que nos permitan resolver problemas más interesantes."
      ],
      "id": "3b8aa200"
    }
  ],
  "metadata": {
    "kernelspec": {
      "name": "python3",
      "language": "python",
      "display_name": "Python 3 (ipykernel)"
    }
  },
  "nbformat": 4,
  "nbformat_minor": 5
}